{
 "cells": [
  {
   "cell_type": "code",
   "execution_count": 30,
   "metadata": {},
   "outputs": [
    {
     "name": "stdout",
     "output_type": "stream",
     "text": [
      "The autoreload extension is already loaded. To reload it, use:\n",
      "  %reload_ext autoreload\n"
     ]
    }
   ],
   "source": [
    "%load_ext autoreload\n",
    "%autoreload 2\n",
    "\n",
    "import misc\n",
    "import config\n",
    "import numpy as np\n",
    "\n",
    "layers_indexes = config.get_layers_indexes(4)\n",
    "config = config.Config()\n"
   ]
  },
  {
   "cell_type": "code",
   "execution_count": 31,
   "metadata": {},
   "outputs": [],
   "source": [
    "genome = np.array([[1,0,0,0,0,1,0,0,0,0,9,9,9,9,0]])\n",
    "module_genome = misc.module_convert(genome[0], layers_indexes)\n",
    "module_graph = misc.get_graph(module_genome)\n"
   ]
  },
  {
   "cell_type": "code",
   "execution_count": 32,
   "metadata": {},
   "outputs": [
    {
     "name": "stdout",
     "output_type": "stream",
     "text": [
      "[array([1]), array([0, 0]), array([0, 0, 1])]\n",
      "{1: [], 2: [1], 3: [], 4: [3], 5: [2, 4]}\n"
     ]
    }
   ],
   "source": [
    "print(module_genome)\n",
    "print(module_graph)"
   ]
  },
  {
   "cell_type": "code",
   "execution_count": 35,
   "metadata": {},
   "outputs": [
    {
     "name": "stdout",
     "output_type": "stream",
     "text": [
      "{1: [], 2: [1], 3: [], 4: [], 5: [2]}\n"
     ]
    }
   ],
   "source": [
    "print(misc.get_graph(misc.module_convert(misc.RemoveDisconnectedLayers(genome, config).return_new_X()[0], layers_indexes)))\n"
   ]
  },
  {
   "cell_type": "code",
   "execution_count": null,
   "metadata": {},
   "outputs": [],
   "source": []
  }
 ],
 "metadata": {
  "kernelspec": {
   "display_name": "Python 3.8.11 ('tf')",
   "language": "python",
   "name": "python3"
  },
  "language_info": {
   "codemirror_mode": {
    "name": "ipython",
    "version": 3
   },
   "file_extension": ".py",
   "mimetype": "text/x-python",
   "name": "python",
   "nbconvert_exporter": "python",
   "pygments_lexer": "ipython3",
   "version": "3.8.11"
  },
  "orig_nbformat": 4,
  "vscode": {
   "interpreter": {
    "hash": "2a5c1c80b3bcd0e5f62b21a0e810a38f905366c5916006723ffe06d666856c32"
   }
  }
 },
 "nbformat": 4,
 "nbformat_minor": 2
}
