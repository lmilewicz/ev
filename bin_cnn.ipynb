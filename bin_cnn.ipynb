{
 "cells": [
  {
   "cell_type": "code",
   "execution_count": 2,
   "metadata": {},
   "outputs": [
    {
     "name": "stderr",
     "output_type": "stream",
     "text": [
      "2022-03-24 23:54:47.072206: I tensorflow/compiler/jit/xla_cpu_device.cc:41] Not creating XLA devices, tf_xla_enable_xla_devices not set\n",
      "2022-03-24 23:54:47.072781: I tensorflow/core/platform/cpu_feature_guard.cc:142] This TensorFlow binary is optimized with oneAPI Deep Neural Network Library (oneDNN) to use the following CPU instructions in performance-critical operations:  SSE4.1 SSE4.2 AVX AVX2 FMA\n",
      "To enable them in other operations, rebuild TensorFlow with the appropriate compiler flags.\n",
      "2022-03-24 23:54:47.077422: I tensorflow/core/common_runtime/process_util.cc:146] Creating new thread pool with default inter op setting: 2. Tune using inter_op_parallelism_threads for best performance.\n"
     ]
    }
   ],
   "source": [
    "import tensorflow as tf\n",
    "from data_loader import DataLoader\n",
    "\n",
    "ds_train, ds_test, ds_info = DataLoader('MNIST', batch_size=128)"
   ]
  },
  {
   "cell_type": "code",
   "execution_count": 3,
   "metadata": {},
   "outputs": [
    {
     "name": "stdout",
     "output_type": "stream",
     "text": [
      "Epoch 1/6\n"
     ]
    },
    {
     "name": "stderr",
     "output_type": "stream",
     "text": [
      "2022-03-24 23:54:52.314675: I tensorflow/compiler/mlir/mlir_graph_optimization_pass.cc:116] None of the MLIR optimization passes are enabled (registered 2)\n",
      "2022-03-24 23:54:52.316647: I tensorflow/core/platform/profile_utils/cpu_utils.cc:112] CPU Frequency: 2808000000 Hz\n"
     ]
    },
    {
     "name": "stdout",
     "output_type": "stream",
     "text": [
      "469/469 [==============================] - 73s 154ms/step - loss: 0.8564 - sparse_categorical_accuracy: 0.7296 - val_loss: 0.1063 - val_sparse_categorical_accuracy: 0.9680\n",
      "Epoch 2/6\n",
      "469/469 [==============================] - 53s 113ms/step - loss: 0.1035 - sparse_categorical_accuracy: 0.9700 - val_loss: 0.0714 - val_sparse_categorical_accuracy: 0.9775\n",
      "Epoch 3/6\n",
      "469/469 [==============================] - 53s 113ms/step - loss: 0.0677 - sparse_categorical_accuracy: 0.9803 - val_loss: 0.0601 - val_sparse_categorical_accuracy: 0.9811\n",
      "Epoch 4/6\n",
      "469/469 [==============================] - 58s 123ms/step - loss: 0.0499 - sparse_categorical_accuracy: 0.9841 - val_loss: 0.0479 - val_sparse_categorical_accuracy: 0.9841\n",
      "Epoch 5/6\n",
      "469/469 [==============================] - 55s 118ms/step - loss: 0.0402 - sparse_categorical_accuracy: 0.9872 - val_loss: 0.0443 - val_sparse_categorical_accuracy: 0.9869\n",
      "Epoch 6/6\n",
      "469/469 [==============================] - 56s 119ms/step - loss: 0.0305 - sparse_categorical_accuracy: 0.9905 - val_loss: 0.0576 - val_sparse_categorical_accuracy: 0.9827\n"
     ]
    },
    {
     "data": {
      "text/plain": [
       "<tensorflow.python.keras.callbacks.History at 0x7f16781a0970>"
      ]
     },
     "execution_count": 3,
     "metadata": {},
     "output_type": "execute_result"
    }
   ],
   "source": [
    "model = tf.keras.models.Sequential([\n",
    "  tf.keras.layers.Conv2D(32, (3, 3), activation='relu', input_shape=(28, 28, 1)),\n",
    "  tf.keras.layers.Conv2D(32, (3, 3), activation='relu', input_shape=(28, 28, 1)),\n",
    "  tf.keras.layers.MaxPooling2D((2, 2)),\n",
    "  tf.keras.layers.Flatten(),\n",
    "  tf.keras.layers.Dense(16, activation='relu'),\n",
    "  tf.keras.layers.Dense(16, activation='relu'),\n",
    "  tf.keras.layers.Dense(10)\n",
    "])\n",
    "model.compile(\n",
    "    optimizer=tf.keras.optimizers.Adam(0.001),\n",
    "    loss=tf.keras.losses.SparseCategoricalCrossentropy(from_logits=True),\n",
    "    metrics=[tf.keras.metrics.SparseCategoricalAccuracy()],\n",
    ")\n",
    "\n",
    "model.fit(\n",
    "    ds_train,\n",
    "    epochs=6,\n",
    "    validation_data=ds_test,\n",
    ")"
   ]
  },
  {
   "cell_type": "code",
   "execution_count": 4,
   "metadata": {},
   "outputs": [
    {
     "name": "stdout",
     "output_type": "stream",
     "text": [
      "Model: \"sequential\"\n",
      "_________________________________________________________________\n",
      "Layer (type)                 Output Shape              Param #   \n",
      "=================================================================\n",
      "conv2d (Conv2D)              (None, 26, 26, 32)        320       \n",
      "_________________________________________________________________\n",
      "conv2d_1 (Conv2D)            (None, 24, 24, 32)        9248      \n",
      "_________________________________________________________________\n",
      "max_pooling2d (MaxPooling2D) (None, 12, 12, 32)        0         \n",
      "_________________________________________________________________\n",
      "flatten (Flatten)            (None, 4608)              0         \n",
      "_________________________________________________________________\n",
      "dense (Dense)                (None, 16)                73744     \n",
      "_________________________________________________________________\n",
      "dense_1 (Dense)              (None, 16)                272       \n",
      "_________________________________________________________________\n",
      "dense_2 (Dense)              (None, 10)                170       \n",
      "=================================================================\n",
      "Total params: 83,754\n",
      "Trainable params: 83,754\n",
      "Non-trainable params: 0\n",
      "_________________________________________________________________\n"
     ]
    }
   ],
   "source": [
    "model.summary()"
   ]
  },
  {
   "cell_type": "code",
   "execution_count": 8,
   "metadata": {},
   "outputs": [
    {
     "name": "stdout",
     "output_type": "stream",
     "text": [
      "Model: \"model_1\"\n",
      "_________________________________________________________________\n",
      "Layer (type)                 Output Shape              Param #   \n",
      "=================================================================\n",
      "input_4 (InputLayer)         [(None, 28, 28, 1)]       0         \n",
      "_________________________________________________________________\n",
      "conv2d_4 (Conv2D)            (None, 26, 26, 32)        320       \n",
      "_________________________________________________________________\n",
      "max_pooling2d_4 (MaxPooling2 (None, 13, 13, 32)        0         \n",
      "_________________________________________________________________\n",
      "flatten_2 (Flatten)          (None, 5408)              0         \n",
      "_________________________________________________________________\n",
      "dense_4 (Dense)              (None, 128)               692352    \n",
      "_________________________________________________________________\n",
      "dense_5 (Dense)              (None, 10)                1290      \n",
      "=================================================================\n",
      "Total params: 693,962\n",
      "Trainable params: 693,962\n",
      "Non-trainable params: 0\n",
      "_________________________________________________________________\n"
     ]
    }
   ],
   "source": [
    "model2.summary()"
   ]
  },
  {
   "cell_type": "code",
   "execution_count": 17,
   "metadata": {},
   "outputs": [
    {
     "name": "stdout",
     "output_type": "stream",
     "text": [
      "The autoreload extension is already loaded. To reload it, use:\n",
      "  %reload_ext autoreload\n"
     ]
    },
    {
     "ename": "TypeError",
     "evalue": "Inputs to a layer should be tensors. Got: <tensorflow.python.keras.layers.convolutional.Conv2D object at 0x7fd12a7421f0>",
     "output_type": "error",
     "traceback": [
      "\u001b[0;31m---------------------------------------------------------------------------\u001b[0m",
      "\u001b[0;31mTypeError\u001b[0m                                 Traceback (most recent call last)",
      "\u001b[1;32m/home/milu/Projects/ev/bin_cnn.ipynb Cell 5'\u001b[0m in \u001b[0;36m<cell line: 12>\u001b[0;34m()\u001b[0m\n\u001b[1;32m      <a href='vscode-notebook-cell://wsl%2Bubuntu-18.04/home/milu/Projects/ev/bin_cnn.ipynb#ch0000007vscode-remote?line=8'>9</a>\u001b[0m layer2 \u001b[39m=\u001b[39m node\u001b[39m.\u001b[39mDenseLayer(\u001b[39m128\u001b[39m, activation\u001b[39m=\u001b[39m\u001b[39m'\u001b[39m\u001b[39mrelu\u001b[39m\u001b[39m'\u001b[39m)\n\u001b[1;32m     <a href='vscode-notebook-cell://wsl%2Bubuntu-18.04/home/milu/Projects/ev/bin_cnn.ipynb#ch0000007vscode-remote?line=10'>11</a>\u001b[0m \u001b[39m# last_active_layer = node.MaxPool2D()(layer1.create_node(dataset_size=(28, 28))(input))\u001b[39;00m\n\u001b[0;32m---> <a href='vscode-notebook-cell://wsl%2Bubuntu-18.04/home/milu/Projects/ev/bin_cnn.ipynb#ch0000007vscode-remote?line=11'>12</a>\u001b[0m last_active_layer \u001b[39m=\u001b[39m layer1\u001b[39m.\u001b[39;49mcreate_node(dataset_size\u001b[39m=\u001b[39;49m(\u001b[39m28\u001b[39;49m, \u001b[39m28\u001b[39;49m))(\u001b[39minput\u001b[39m)\n\u001b[1;32m     <a href='vscode-notebook-cell://wsl%2Bubuntu-18.04/home/milu/Projects/ev/bin_cnn.ipynb#ch0000007vscode-remote?line=13'>14</a>\u001b[0m \u001b[39m# last_active_layer = layer2(last_active_layer)\u001b[39;00m\n\u001b[1;32m     <a href='vscode-notebook-cell://wsl%2Bubuntu-18.04/home/milu/Projects/ev/bin_cnn.ipynb#ch0000007vscode-remote?line=14'>15</a>\u001b[0m flat_layer \u001b[39m=\u001b[39m tf\u001b[39m.\u001b[39mkeras\u001b[39m.\u001b[39mlayers\u001b[39m.\u001b[39mFlatten()(last_active_layer)\n",
      "File \u001b[0;32m~/Projects/ev/node.py:57\u001b[0m, in \u001b[0;36mConvolution2D.create_node\u001b[0;34m(self, dataset_size)\u001b[0m\n\u001b[1;32m     <a href='file:///home/milu/Projects/ev/node.py?line=51'>52</a>\u001b[0m     def create_node(self, dataset_size):\n\u001b[1;32m     <a href='file:///home/milu/Projects/ev/node.py?line=52'>53</a>\u001b[0m         return MaxPool2D()(tf.keras.layers.Conv2D(filters=self.units, \n\u001b[1;32m     <a href='file:///home/milu/Projects/ev/node.py?line=53'>54</a>\u001b[0m                                         kernel_size=(3,3),\n\u001b[1;32m     <a href='file:///home/milu/Projects/ev/node.py?line=54'>55</a>\u001b[0m                                         dtype=self.dtype))\n\u001b[0;32m---> <a href='file:///home/milu/Projects/ev/node.py?line=56'>57</a>\u001b[0m # class Convolution2D(Node):\n\u001b[1;32m     <a href='file:///home/milu/Projects/ev/node.py?line=57'>58</a>\u001b[0m #     def __init__(self, units, activation):\n\u001b[1;32m     <a href='file:///home/milu/Projects/ev/node.py?line=58'>59</a>\u001b[0m #         super().__init__(units, activation)\n\u001b[1;32m     <a href='file:///home/milu/Projects/ev/node.py?line=59'>60</a>\u001b[0m \n\u001b[1;32m     <a href='file:///home/milu/Projects/ev/node.py?line=60'>61</a>\u001b[0m #     def create_node(self, dataset_size) -> tf.keras.layers.Layer:\n\u001b[1;32m     <a href='file:///home/milu/Projects/ev/node.py?line=61'>62</a>\u001b[0m #         return tf.keras.layers.Conv2D(filter=self.units, \n\u001b[1;32m     <a href='file:///home/milu/Projects/ev/node.py?line=62'>63</a>\u001b[0m #                                         kernel_size=5, \n\u001b[1;32m     <a href='file:///home/milu/Projects/ev/node.py?line=63'>64</a>\u001b[0m #                                         strides=(1,1),\n\u001b[1;32m     <a href='file:///home/milu/Projects/ev/node.py?line=64'>65</a>\u001b[0m #                                         padding=\"same\", \n\u001b[1;32m     <a href='file:///home/milu/Projects/ev/node.py?line=65'>66</a>\u001b[0m #                                         dtype=self.dtype)\n\u001b[1;32m     <a href='file:///home/milu/Projects/ev/node.py?line=67'>68</a>\u001b[0m class Convolution2DFlipout(NodeTFP):\n\u001b[1;32m     <a href='file:///home/milu/Projects/ev/node.py?line=68'>69</a>\u001b[0m     def __init__(self, units, activation):\n",
      "File \u001b[0;32m~/anaconda3/envs/tf-2/lib/python3.9/site-packages/tensorflow/python/keras/engine/base_layer.py:998\u001b[0m, in \u001b[0;36mLayer.__call__\u001b[0;34m(self, *args, **kwargs)\u001b[0m\n\u001b[1;32m    <a href='file:///home/milu/anaconda3/envs/tf-2/lib/python3.9/site-packages/tensorflow/python/keras/engine/base_layer.py?line=994'>995</a>\u001b[0m \u001b[39mif\u001b[39;00m \u001b[39mself\u001b[39m\u001b[39m.\u001b[39m_autocast:\n\u001b[1;32m    <a href='file:///home/milu/anaconda3/envs/tf-2/lib/python3.9/site-packages/tensorflow/python/keras/engine/base_layer.py?line=995'>996</a>\u001b[0m   inputs \u001b[39m=\u001b[39m \u001b[39mself\u001b[39m\u001b[39m.\u001b[39m_maybe_cast_inputs(inputs, input_list)\n\u001b[0;32m--> <a href='file:///home/milu/anaconda3/envs/tf-2/lib/python3.9/site-packages/tensorflow/python/keras/engine/base_layer.py?line=997'>998</a>\u001b[0m input_spec\u001b[39m.\u001b[39;49massert_input_compatibility(\u001b[39mself\u001b[39;49m\u001b[39m.\u001b[39;49minput_spec, inputs, \u001b[39mself\u001b[39;49m\u001b[39m.\u001b[39;49mname)\n\u001b[1;32m    <a href='file:///home/milu/anaconda3/envs/tf-2/lib/python3.9/site-packages/tensorflow/python/keras/engine/base_layer.py?line=998'>999</a>\u001b[0m \u001b[39mif\u001b[39;00m eager:\n\u001b[1;32m   <a href='file:///home/milu/anaconda3/envs/tf-2/lib/python3.9/site-packages/tensorflow/python/keras/engine/base_layer.py?line=999'>1000</a>\u001b[0m   call_fn \u001b[39m=\u001b[39m \u001b[39mself\u001b[39m\u001b[39m.\u001b[39mcall\n",
      "File \u001b[0;32m~/anaconda3/envs/tf-2/lib/python3.9/site-packages/tensorflow/python/keras/engine/input_spec.py:201\u001b[0m, in \u001b[0;36massert_input_compatibility\u001b[0;34m(input_spec, inputs, layer_name)\u001b[0m\n\u001b[1;32m    <a href='file:///home/milu/anaconda3/envs/tf-2/lib/python3.9/site-packages/tensorflow/python/keras/engine/input_spec.py?line=194'>195</a>\u001b[0m \u001b[39mfor\u001b[39;00m x \u001b[39min\u001b[39;00m inputs:\n\u001b[1;32m    <a href='file:///home/milu/anaconda3/envs/tf-2/lib/python3.9/site-packages/tensorflow/python/keras/engine/input_spec.py?line=195'>196</a>\u001b[0m   \u001b[39m# Having a shape/dtype is the only commonality of the various tensor-like\u001b[39;00m\n\u001b[1;32m    <a href='file:///home/milu/anaconda3/envs/tf-2/lib/python3.9/site-packages/tensorflow/python/keras/engine/input_spec.py?line=196'>197</a>\u001b[0m   \u001b[39m# objects that may be passed. The most common kind of invalid type we are\u001b[39;00m\n\u001b[1;32m    <a href='file:///home/milu/anaconda3/envs/tf-2/lib/python3.9/site-packages/tensorflow/python/keras/engine/input_spec.py?line=197'>198</a>\u001b[0m   \u001b[39m# guarding for is a Layer instance (Functional API), which does not\u001b[39;00m\n\u001b[1;32m    <a href='file:///home/milu/anaconda3/envs/tf-2/lib/python3.9/site-packages/tensorflow/python/keras/engine/input_spec.py?line=198'>199</a>\u001b[0m   \u001b[39m# have a `shape` attribute.\u001b[39;00m\n\u001b[1;32m    <a href='file:///home/milu/anaconda3/envs/tf-2/lib/python3.9/site-packages/tensorflow/python/keras/engine/input_spec.py?line=199'>200</a>\u001b[0m   \u001b[39mif\u001b[39;00m \u001b[39mnot\u001b[39;00m \u001b[39mhasattr\u001b[39m(x, \u001b[39m'\u001b[39m\u001b[39mshape\u001b[39m\u001b[39m'\u001b[39m):\n\u001b[0;32m--> <a href='file:///home/milu/anaconda3/envs/tf-2/lib/python3.9/site-packages/tensorflow/python/keras/engine/input_spec.py?line=200'>201</a>\u001b[0m     \u001b[39mraise\u001b[39;00m \u001b[39mTypeError\u001b[39;00m(\u001b[39m'\u001b[39m\u001b[39mInputs to a layer should be tensors. Got: \u001b[39m\u001b[39m%s\u001b[39;00m\u001b[39m'\u001b[39m \u001b[39m%\u001b[39m (x,))\n\u001b[1;32m    <a href='file:///home/milu/anaconda3/envs/tf-2/lib/python3.9/site-packages/tensorflow/python/keras/engine/input_spec.py?line=202'>203</a>\u001b[0m \u001b[39mif\u001b[39;00m \u001b[39mlen\u001b[39m(inputs) \u001b[39m!=\u001b[39m \u001b[39mlen\u001b[39m(input_spec):\n\u001b[1;32m    <a href='file:///home/milu/anaconda3/envs/tf-2/lib/python3.9/site-packages/tensorflow/python/keras/engine/input_spec.py?line=203'>204</a>\u001b[0m   \u001b[39mraise\u001b[39;00m \u001b[39mValueError\u001b[39;00m(\u001b[39m'\u001b[39m\u001b[39mLayer \u001b[39m\u001b[39m'\u001b[39m \u001b[39m+\u001b[39m layer_name \u001b[39m+\u001b[39m \u001b[39m'\u001b[39m\u001b[39m expects \u001b[39m\u001b[39m'\u001b[39m \u001b[39m+\u001b[39m\n\u001b[1;32m    <a href='file:///home/milu/anaconda3/envs/tf-2/lib/python3.9/site-packages/tensorflow/python/keras/engine/input_spec.py?line=204'>205</a>\u001b[0m                    \u001b[39mstr\u001b[39m(\u001b[39mlen\u001b[39m(input_spec)) \u001b[39m+\u001b[39m \u001b[39m'\u001b[39m\u001b[39m input(s), \u001b[39m\u001b[39m'\u001b[39m\n\u001b[1;32m    <a href='file:///home/milu/anaconda3/envs/tf-2/lib/python3.9/site-packages/tensorflow/python/keras/engine/input_spec.py?line=205'>206</a>\u001b[0m                    \u001b[39m'\u001b[39m\u001b[39mbut it received \u001b[39m\u001b[39m'\u001b[39m \u001b[39m+\u001b[39m \u001b[39mstr\u001b[39m(\u001b[39mlen\u001b[39m(inputs)) \u001b[39m+\u001b[39m\n\u001b[1;32m    <a href='file:///home/milu/anaconda3/envs/tf-2/lib/python3.9/site-packages/tensorflow/python/keras/engine/input_spec.py?line=206'>207</a>\u001b[0m                    \u001b[39m'\u001b[39m\u001b[39m input tensors. Inputs received: \u001b[39m\u001b[39m'\u001b[39m \u001b[39m+\u001b[39m \u001b[39mstr\u001b[39m(inputs))\n",
      "\u001b[0;31mTypeError\u001b[0m: Inputs to a layer should be tensors. Got: <tensorflow.python.keras.layers.convolutional.Conv2D object at 0x7fd12a7421f0>"
     ]
    }
   ],
   "source": [
    "%load_ext autoreload\n",
    "%autoreload 2\n",
    "\n",
    "import node\n",
    "\n",
    "input = tf.keras.Input(shape=(28, 28, 1))\n",
    "\n",
    "layer1 = node.Convolution2D(32, activation='relu')\n",
    "layer2 = node.DenseLayer(128, activation='relu')\n",
    "\n",
    "last_active_layer = node.MaxPool2D()(layer1.create_node(dataset_size=(28, 28))(input))\n",
    "# last_active_layer = layer1.create_node(dataset_size=(28, 28))(input)\n",
    "\n",
    "# last_active_layer = layer2(last_active_layer)\n",
    "flat_layer = tf.keras.layers.Flatten()(last_active_layer)\n",
    "last_active_layer = layer2.create_node(dataset_size=(28, 28))(flat_layer)\n",
    "\n",
    "output = tf.keras.layers.Dense(units=10, activation='softmax')(last_active_layer)\n",
    "model2 = tf.keras.Model(input, output)\n",
    "\n",
    "model2.compile(\n",
    "    optimizer=tf.keras.optimizers.Adam(0.001), \n",
    "    loss=tf.keras.losses.SparseCategoricalCrossentropy(from_logits=True),\n",
    "    metrics=[tf.keras.metrics.SparseCategoricalAccuracy()],\n",
    ")\n",
    "\n",
    "# history = model2.fit(\n",
    "#     ds_train,\n",
    "#     epochs=6,\n",
    "#     validation_data=ds_test,\n",
    "# )\n",
    "      \n",
    "# model = tf.keras.models.Sequential([\n",
    "#   tf.keras.layers.Flatten(input_shape=(28, 28)),\n",
    "#   tf.keras.layers.Dense(128, activation='relu'),\n",
    "#   tf.keras.layers.Dense(10)\n",
    "# ])\n",
    "# model.compile(\n",
    "#     optimizer=tf.keras.optimizers.Adam(0.001),\n",
    "#     loss=tf.keras.losses.SparseCategoricalCrossentropy(from_logits=True),\n",
    "#     metrics=[tf.keras.metrics.SparseCategoricalAccuracy()],\n",
    "# )\n",
    "\n",
    "# model.fit(\n",
    "#     ds_train,\n",
    "#     epochs=6,\n",
    "#     validation_data=ds_test,\n",
    "# )"
   ]
  },
  {
   "cell_type": "code",
   "execution_count": null,
   "metadata": {},
   "outputs": [],
   "source": [
    "history = model2.fit(\n",
    "    ds_train,\n",
    "    epochs=6,\n",
    "    validation_data=ds_test,\n",
    ")"
   ]
  },
  {
   "cell_type": "code",
   "execution_count": null,
   "metadata": {},
   "outputs": [],
   "source": []
  }
 ],
 "metadata": {
  "interpreter": {
   "hash": "79380b83047bea0f79cf4d4dafbf8460ad227aabf87872e26c66582023a70b0d"
  },
  "kernelspec": {
   "display_name": "Python 3.9.10 ('tf-2')",
   "language": "python",
   "name": "python3"
  },
  "language_info": {
   "codemirror_mode": {
    "name": "ipython",
    "version": 3
   },
   "file_extension": ".py",
   "mimetype": "text/x-python",
   "name": "python",
   "nbconvert_exporter": "python",
   "pygments_lexer": "ipython3",
   "version": "3.9.7"
  },
  "orig_nbformat": 4
 },
 "nbformat": 4,
 "nbformat_minor": 2
}
