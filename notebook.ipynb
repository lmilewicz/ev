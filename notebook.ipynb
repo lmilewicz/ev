{
 "cells": [
  {
   "cell_type": "code",
   "execution_count": 1,
   "metadata": {},
   "outputs": [],
   "source": [
    "%load_ext autoreload\n",
    "%autoreload 2\n",
    "\n",
    "import evolution\n",
    "from config import Config\n",
    "from pymoo.algorithms.moo.nsga2 import NSGA2\n",
    "import os\n",
    "\n",
    "\n",
    "os.environ['TF_CPP_MIN_LOG_LEVEL'] = '1' \n",
    "\n",
    "config = Config()\n",
    "problem = evolution.EVProblem(config)\n",
    "algorithm = NSGA2(pop_size=config.pop_size,\n",
    "                    sampling=evolution.SamplingAll(),\n",
    "                    mutation=evolution.MutationAll(),\n",
    "                    eliminate_duplicates=True)\n"
   ]
  },
  {
   "cell_type": "code",
   "execution_count": 2,
   "metadata": {},
   "outputs": [
    {
     "name": "stdout",
     "output_type": "stream",
     "text": [
      "Blueprint: [0 0 0 1 1 1]\n",
      "Blueprint: [0 0 0 0 1 0]\n",
      "Blueprint: [1 0 1 1 1 0]\n",
      "Blueprint: [1 1 0 0 1 0]\n",
      "Timestats: blueprint_time: 0.1. fit_time: 38.89\n",
      "Generation = 1\n",
      "population error: best = 0.090, mean = 0.489, median = 0.490, worst = 0.887\n",
      "Best genome: [array([0]), array([0, 0])]\n",
      "Result = 0.910, params number = 6.73e-06\n",
      "\n",
      "\n",
      "Blueprint: [0 0 0 1 0 0]\n",
      "Blueprint: [0 0 0 0 0 0]\n",
      "Blueprint: [1 0 0 1 1 1]\n",
      "Blueprint: [1 0 1 0 1 0]\n",
      "Timestats: blueprint_time: 0.12. fit_time: 41.07\n",
      "Generation = 2\n",
      "population error: best = 0.090, mean = 0.100, median = 0.097, worst = 0.117\n",
      "Best genome: [array([0]), array([0, 0])]\n",
      "Result = 0.910, params number = 6.73e-06\n",
      "\n",
      "\n",
      "Blueprint: [1 0 0 0 0 0]\n"
     ]
    },
    {
     "name": "stderr",
     "output_type": "stream",
     "text": [
      "/home/milu/anaconda3/envs/tf-2/lib/python3.9/site-packages/pymoo/algorithms/moo/nsga2.py:191: RuntimeWarning: invalid value encountered in subtract\n",
      "  dist = np.row_stack([_F, np.full(n_obj, np.inf)]) - np.row_stack([np.full(n_obj, -np.inf), _F])\n",
      "/home/milu/anaconda3/envs/tf-2/lib/python3.9/site-packages/pymoo/algorithms/moo/nsga2.py:194: RuntimeWarning: invalid value encountered in subtract\n",
      "  norm = np.max(_F, axis=0) - np.min(_F, axis=0)\n"
     ]
    },
    {
     "name": "stdout",
     "output_type": "stream",
     "text": [
      "Blueprint: [1 1 0 0 1 0]\n",
      "Blueprint: [1 1 0 1 1 1]\n",
      "Blueprint: [1 0 0 1 1 1]\n",
      "Timestats: blueprint_time: 0.13. fit_time: 44.17\n",
      "Generation = 3\n",
      "population error: best = 0.090, mean = 0.297, median = 0.106, worst = 0.887\n",
      "Best genome: [array([0]), array([0, 0])]\n",
      "Result = 0.910, params number = 6.73e-06\n",
      "\n",
      "\n",
      "Blueprint: [0 1 0 0 0 0]\n",
      "Blueprint: [0 1 0 0 1 0]\n",
      "Blueprint: [1 0 0 1 0 0]\n",
      "Blueprint: [0 0 0 1 0 0]\n",
      "Timestats: blueprint_time: 0.12. fit_time: 43.29\n",
      "Generation = 4\n",
      "population error: best = 0.090, mean = 0.101, median = 0.098, worst = 0.117\n",
      "Best genome: [array([0]), array([0, 0])]\n",
      "Result = 0.910, params number = 6.73e-06\n",
      "\n",
      "\n",
      "Blueprint: [0 0 0 1 1 0]\n",
      "Blueprint: [0 1 0 1 0 0]\n",
      "Blueprint: [0 0 0 1 0 1]\n",
      "Blueprint: [1 0 0 0 1 0]\n",
      "Timestats: blueprint_time: 0.11. fit_time: 40.75\n",
      "Generation = 5\n",
      "population error: best = 0.090, mean = 0.100, median = 0.096, worst = 0.117\n",
      "Best genome: [array([0]), array([0, 0])]\n",
      "Result = 0.910, params number = 6.73e-06\n",
      "\n",
      "\n"
     ]
    }
   ],
   "source": [
    "from pymoo.optimize import minimize\n",
    "\n",
    "res = minimize(problem, \n",
    "                algorithm,\n",
    "                callback=evolution.do_every_generations, \n",
    "                termination=config.termination)"
   ]
  },
  {
   "cell_type": "code",
   "execution_count": null,
   "metadata": {},
   "outputs": [],
   "source": []
  },
  {
   "cell_type": "code",
   "execution_count": null,
   "metadata": {},
   "outputs": [],
   "source": []
  }
 ],
 "metadata": {
  "interpreter": {
   "hash": "b2d8ac915aac3682103007802360c9e92cb6bf2011ffdab98aaf50027627b1be"
  },
  "kernelspec": {
   "display_name": "Python 3.8.11 64-bit ('tf': conda)",
   "name": "python3"
  },
  "language_info": {
   "codemirror_mode": {
    "name": "ipython",
    "version": 3
   },
   "file_extension": ".py",
   "mimetype": "text/x-python",
   "name": "python",
   "nbconvert_exporter": "python",
   "pygments_lexer": "ipython3",
   "version": "3.9.7"
  },
  "orig_nbformat": 4
 },
 "nbformat": 4,
 "nbformat_minor": 2
}
