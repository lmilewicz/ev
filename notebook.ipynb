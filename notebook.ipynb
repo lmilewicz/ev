{
 "cells": [
  {
   "cell_type": "code",
   "execution_count": null,
   "metadata": {},
   "outputs": [],
   "source": [
    "%load_ext autoreload\n",
    "%autoreload 2\n",
    "\n",
    "import evolution\n",
    "from config import Config\n",
    "from pymoo.algorithms.moo.nsga2 import NSGA2\n",
    "import os\n",
    "\n",
    "os.environ['TF_CPP_MIN_LOG_LEVEL'] = '1' \n",
    "\n",
    "config = Config()\n",
    "problem = evolution.EVProblem(config)\n",
    "algorithm = NSGA2(pop_size=config.pop_size,\n",
    "                    sampling=evolution.SamplingAll(),\n",
    "                    mutation=evolution.MutationAll(),\n",
    "                    eliminate_duplicates=True)"
   ]
  },
  {
   "cell_type": "code",
   "execution_count": null,
   "metadata": {},
   "outputs": [],
   "source": [
    "from pymoo.optimize import minimize\n",
    "\n",
    "res = minimize(problem, \n",
    "                algorithm,\n",
    "                callback=evolution.do_every_generations, \n",
    "                termination=config.termination)"
   ]
  },
  {
   "cell_type": "code",
   "execution_count": 3,
   "metadata": {},
   "outputs": [
    {
     "data": {
      "text/plain": [
       "array([0., 1.])"
      ]
     },
     "execution_count": 3,
     "metadata": {},
     "output_type": "execute_result"
    }
   ],
   "source": [
    "import numpy as np\n",
    "\n",
    "train_labels = np.array([])\n",
    "train_labels2 = np.array([0, 1])\n",
    "# np.concatenate(train_labels, train_labels2)\n",
    "np.concatenate((train_labels, train_labels2), axis=0)"
   ]
  },
  {
   "cell_type": "code",
   "execution_count": null,
   "metadata": {},
   "outputs": [],
   "source": [
    "\n",
    "train_labels = np.array([0])\n",
    "for batch in train_labels_batched:\n",
    "    print(train_labels)\n",
    "    # print(batch.numpy())\n",
    "    train_labels = np.concatenate((train_labels, batch.numpy()), axis=0)\n",
    "    # train_labels = np.concatenate(train_labels, train_labels2)"
   ]
  },
  {
   "cell_type": "code",
   "execution_count": null,
   "metadata": {},
   "outputs": [],
   "source": []
  }
 ],
 "metadata": {
  "kernelspec": {
   "display_name": "Python 3.8.11 ('tf')",
   "language": "python",
   "name": "python3"
  },
  "language_info": {
   "codemirror_mode": {
    "name": "ipython",
    "version": 3
   },
   "file_extension": ".py",
   "mimetype": "text/x-python",
   "name": "python",
   "nbconvert_exporter": "python",
   "pygments_lexer": "ipython3",
   "version": "3.8.11"
  },
  "orig_nbformat": 4,
  "vscode": {
   "interpreter": {
    "hash": "2a5c1c80b3bcd0e5f62b21a0e810a38f905366c5916006723ffe06d666856c32"
   }
  }
 },
 "nbformat": 4,
 "nbformat_minor": 2
}
