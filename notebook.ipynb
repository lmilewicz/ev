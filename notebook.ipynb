{
 "cells": [
  {
   "cell_type": "code",
   "execution_count": null,
   "metadata": {},
   "outputs": [],
   "source": [
    "%load_ext autoreload\n",
    "%autoreload 2\n",
    "\n",
    "import evolution\n",
    "from config import Config\n",
    "from pymoo.algorithms.moo.nsga2 import NSGA2\n",
    "import os\n",
    "import evolution, evolution_operations\n",
    "from pymoo.optimize import minimize\n",
    "\n",
    "os.environ['TF_CPP_MIN_LOG_LEVEL'] = '1' \n",
    "\n",
    "config_settings = {\n",
    "    'n_gen': 1,\n",
    "    'dataset': 'mnist',\n",
    "    'pop_size': 2,\n",
    "    'n_epochs': 1,\n",
    "    'number_of_objectives': 1}\n",
    "\n",
    "iterations = 1\n",
    "iteration_for_second_objective = 2\n",
    "\n",
    "for i in range(iterations):\n",
    "    if i == iteration_for_second_objective: config_settings['obj_num'] = 2\n",
    "\n",
    "    config = Config(config_settings)      \n",
    "    problem = evolution.EVProblem(config)\n",
    "    algorithm = NSGA2(pop_size=config.pop_size,\n",
    "                sampling=evolution_operations.SamplingFromSmall(),\n",
    "                mutation=evolution_operations.MutationFromSmall(),\n",
    "                eliminate_duplicates=True)\n",
    "    res = minimize(problem,\n",
    "                    algorithm, \n",
    "                    callback=evolution.do_every_generations,\n",
    "                    termination=config.termination)\n"
   ]
  },
  {
   "cell_type": "code",
   "execution_count": null,
   "metadata": {},
   "outputs": [],
   "source": [
    "algorithm"
   ]
  },
  {
   "cell_type": "code",
   "execution_count": null,
   "metadata": {},
   "outputs": [],
   "source": [
    "res.pop.get(\"X\")"
   ]
  },
  {
   "cell_type": "code",
   "execution_count": null,
   "metadata": {},
   "outputs": [],
   "source": []
  }
 ],
 "metadata": {
  "kernelspec": {
   "display_name": "Python 3.8.11 ('tf')",
   "language": "python",
   "name": "python3"
  },
  "language_info": {
   "codemirror_mode": {
    "name": "ipython",
    "version": 3
   },
   "file_extension": ".py",
   "mimetype": "text/x-python",
   "name": "python",
   "nbconvert_exporter": "python",
   "pygments_lexer": "ipython3",
   "version": "3.8.11"
  },
  "orig_nbformat": 4,
  "vscode": {
   "interpreter": {
    "hash": "2a5c1c80b3bcd0e5f62b21a0e810a38f905366c5916006723ffe06d666856c32"
   }
  }
 },
 "nbformat": 4,
 "nbformat_minor": 2
}
