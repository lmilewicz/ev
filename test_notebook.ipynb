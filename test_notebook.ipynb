{
 "cells": [
  {
   "cell_type": "code",
   "execution_count": 21,
   "metadata": {},
   "outputs": [
    {
     "name": "stdout",
     "output_type": "stream",
     "text": [
      "Epoch 1/30\n",
      "1563/1563 - 4s - loss: 1.5158 - accuracy: 0.4481 - val_loss: 1.2332 - val_accuracy: 0.5579 - 4s/epoch - 2ms/step\n",
      "Epoch 2/30\n",
      "1563/1563 - 13s - loss: 1.1600 - accuracy: 0.5882 - val_loss: 1.1080 - val_accuracy: 0.6110 - 13s/epoch - 8ms/step\n",
      "Epoch 3/30\n",
      "1563/1563 - 15s - loss: 1.0055 - accuracy: 0.6469 - val_loss: 0.9799 - val_accuracy: 0.6555 - 15s/epoch - 9ms/step\n",
      "Epoch 4/30\n",
      "1563/1563 - 15s - loss: 0.9033 - accuracy: 0.6801 - val_loss: 0.9848 - val_accuracy: 0.6600 - 15s/epoch - 9ms/step\n",
      "Epoch 5/30\n",
      "1563/1563 - 15s - loss: 0.8296 - accuracy: 0.7079 - val_loss: 0.9342 - val_accuracy: 0.6776 - 15s/epoch - 9ms/step\n",
      "Epoch 6/30\n",
      "1563/1563 - 15s - loss: 0.7722 - accuracy: 0.7298 - val_loss: 0.9082 - val_accuracy: 0.6879 - 15s/epoch - 10ms/step\n",
      "Epoch 7/30\n",
      "1563/1563 - 15s - loss: 0.7237 - accuracy: 0.7452 - val_loss: 0.9050 - val_accuracy: 0.6958 - 15s/epoch - 10ms/step\n",
      "Epoch 8/30\n",
      "1563/1563 - 15s - loss: 0.6780 - accuracy: 0.7600 - val_loss: 0.8824 - val_accuracy: 0.7031 - 15s/epoch - 9ms/step\n",
      "Epoch 9/30\n",
      "1563/1563 - 15s - loss: 0.6370 - accuracy: 0.7752 - val_loss: 0.9396 - val_accuracy: 0.6974 - 15s/epoch - 9ms/step\n",
      "Epoch 10/30\n",
      "1563/1563 - 15s - loss: 0.6037 - accuracy: 0.7865 - val_loss: 0.9284 - val_accuracy: 0.6968 - 15s/epoch - 9ms/step\n",
      "Epoch 11/30\n",
      "1563/1563 - 15s - loss: 0.5709 - accuracy: 0.7992 - val_loss: 0.9179 - val_accuracy: 0.7063 - 15s/epoch - 10ms/step\n",
      "Epoch 12/30\n",
      "1563/1563 - 15s - loss: 0.5376 - accuracy: 0.8109 - val_loss: 0.9522 - val_accuracy: 0.7100 - 15s/epoch - 9ms/step\n",
      "Epoch 13/30\n",
      "1563/1563 - 15s - loss: 0.5080 - accuracy: 0.8194 - val_loss: 0.9492 - val_accuracy: 0.7140 - 15s/epoch - 10ms/step\n",
      "Epoch 14/30\n",
      "1563/1563 - 14s - loss: 0.4776 - accuracy: 0.8308 - val_loss: 0.9955 - val_accuracy: 0.6999 - 14s/epoch - 9ms/step\n",
      "Epoch 15/30\n",
      "1563/1563 - 15s - loss: 0.4479 - accuracy: 0.8407 - val_loss: 1.0521 - val_accuracy: 0.7030 - 15s/epoch - 10ms/step\n",
      "Epoch 16/30\n",
      "1563/1563 - 15s - loss: 0.4187 - accuracy: 0.8510 - val_loss: 1.0698 - val_accuracy: 0.6990 - 15s/epoch - 10ms/step\n",
      "Epoch 17/30\n",
      "1563/1563 - 13s - loss: 0.3958 - accuracy: 0.8585 - val_loss: 1.1256 - val_accuracy: 0.6977 - 13s/epoch - 8ms/step\n",
      "Epoch 18/30\n",
      "1563/1563 - 14s - loss: 0.3764 - accuracy: 0.8646 - val_loss: 1.1794 - val_accuracy: 0.6951 - 14s/epoch - 9ms/step\n",
      "Epoch 19/30\n",
      "1563/1563 - 9s - loss: 0.3522 - accuracy: 0.8747 - val_loss: 1.2803 - val_accuracy: 0.6910 - 9s/epoch - 6ms/step\n",
      "Epoch 20/30\n",
      "1563/1563 - 13s - loss: 0.3264 - accuracy: 0.8825 - val_loss: 1.3018 - val_accuracy: 0.6888 - 13s/epoch - 8ms/step\n",
      "Epoch 21/30\n",
      "1563/1563 - 13s - loss: 0.3096 - accuracy: 0.8887 - val_loss: 1.3244 - val_accuracy: 0.7012 - 13s/epoch - 8ms/step\n",
      "Epoch 22/30\n",
      "1563/1563 - 15s - loss: 0.2872 - accuracy: 0.8981 - val_loss: 1.3979 - val_accuracy: 0.6928 - 15s/epoch - 10ms/step\n",
      "Epoch 23/30\n",
      "1563/1563 - 12s - loss: 0.2789 - accuracy: 0.8997 - val_loss: 1.4538 - val_accuracy: 0.6867 - 12s/epoch - 7ms/step\n",
      "Epoch 24/30\n",
      "1563/1563 - 15s - loss: 0.2593 - accuracy: 0.9054 - val_loss: 1.4926 - val_accuracy: 0.6812 - 15s/epoch - 9ms/step\n",
      "Epoch 25/30\n",
      "1563/1563 - 15s - loss: 0.2466 - accuracy: 0.9103 - val_loss: 1.6128 - val_accuracy: 0.6896 - 15s/epoch - 10ms/step\n",
      "Epoch 26/30\n",
      "1563/1563 - 14s - loss: 0.2337 - accuracy: 0.9160 - val_loss: 1.6202 - val_accuracy: 0.6890 - 14s/epoch - 9ms/step\n",
      "Epoch 27/30\n",
      "1563/1563 - 15s - loss: 0.2186 - accuracy: 0.9200 - val_loss: 1.6978 - val_accuracy: 0.6893 - 15s/epoch - 10ms/step\n",
      "Epoch 28/30\n",
      "1563/1563 - 14s - loss: 0.2229 - accuracy: 0.9185 - val_loss: 1.6697 - val_accuracy: 0.6904 - 14s/epoch - 9ms/step\n",
      "Epoch 29/30\n",
      "1563/1563 - 15s - loss: 0.2066 - accuracy: 0.9248 - val_loss: 1.8469 - val_accuracy: 0.6816 - 15s/epoch - 9ms/step\n",
      "Epoch 30/30\n",
      "1563/1563 - 15s - loss: 0.1939 - accuracy: 0.9301 - val_loss: 1.8296 - val_accuracy: 0.6803 - 15s/epoch - 9ms/step\n"
     ]
    },
    {
     "data": {
      "text/plain": [
       "<keras.callbacks.History at 0x7faab80bcb50>"
      ]
     },
     "execution_count": 21,
     "metadata": {},
     "output_type": "execute_result"
    }
   ],
   "source": [
    "import tensorflow as tf \n",
    "import tensorflow_datasets as tfds\n",
    "\n",
    "def normalize_img(image, label):\n",
    "    ###### Normalizes images: `uint8` -> `float32`\n",
    "    return tf.cast(image, tf.float32) / 255., label\n",
    "\n",
    "batch_size = 32\n",
    "(ds_train, ds_test), ds_info = tfds.load(\n",
    "    'cifar10',\n",
    "    split=['train', 'test'],\n",
    "    shuffle_files=True,\n",
    "    as_supervised=True,\n",
    "    with_info=True,\n",
    ")\n",
    "\n",
    "ds_train = ds_train.map(\n",
    "    normalize_img, num_parallel_calls=tf.data.AUTOTUNE)\n",
    "ds_train = ds_train.cache()\n",
    "ds_train = ds_train.shuffle(buffer_size=1000)\n",
    "ds_train = ds_train.batch(batch_size)\n",
    "ds_train = ds_train.prefetch(tf.data.AUTOTUNE)\n",
    "\n",
    "ds_test = ds_test.map(normalize_img, num_parallel_calls=tf.data.AUTOTUNE)\n",
    "ds_test = ds_test.batch(batch_size)\n",
    "ds_test = ds_test.cache()\n",
    "ds_test = ds_test.prefetch(tf.data.AUTOTUNE)\n",
    "\n",
    "model = tf.keras.models.Sequential(\n",
    "        [\n",
    "            tf.keras.layers.Conv2D(32, (3, 3), activation='relu', input_shape=(32, 32, 3)),\n",
    "            tf.keras.layers.MaxPooling2D((2, 2)),\n",
    "            tf.keras.layers.Conv2D(64, (3, 3), activation='relu'),\n",
    "            tf.keras.layers.MaxPooling2D((2, 2)),\n",
    "            tf.keras.layers.Conv2D(64, (3, 3), activation='relu'),\n",
    "            tf.keras.layers.Flatten(input_shape=(28, 28, 3)),\n",
    "            tf.keras.layers.Dense(64, activation=\"relu\"),\n",
    "            tf.keras.layers.Dense(10, activation=\"softmax\"),\n",
    "        ]\n",
    "    )\n",
    "\n",
    "model.compile(\n",
    "    optimizer=\"adam\", loss=\"sparse_categorical_crossentropy\", metrics=[\"accuracy\"]\n",
    ")\n",
    "model.fit(\n",
    "    ds_train,\n",
    "    epochs=10,\n",
    "    validation_data=ds_test, verbose=2\n",
    ")\n",
    "\n"
   ]
  },
  {
   "cell_type": "code",
   "execution_count": 1,
   "metadata": {},
   "outputs": [],
   "source": [
    "import numpy as np\n",
    "A = np.full((3,6), False)\n"
   ]
  },
  {
   "cell_type": "code",
   "execution_count": 2,
   "metadata": {},
   "outputs": [
    {
     "data": {
      "text/plain": [
       "array([[False, False, False, False, False, False],\n",
       "       [False, False, False, False, False, False],\n",
       "       [False, False, False, False, False, False]])"
      ]
     },
     "execution_count": 2,
     "metadata": {},
     "output_type": "execute_result"
    }
   ],
   "source": [
    "A"
   ]
  },
  {
   "cell_type": "code",
   "execution_count": 3,
   "metadata": {},
   "outputs": [],
   "source": [
    "A[:, 0:3] = True"
   ]
  },
  {
   "cell_type": "code",
   "execution_count": 4,
   "metadata": {},
   "outputs": [
    {
     "data": {
      "text/plain": [
       "array([[ True,  True,  True, False, False, False],\n",
       "       [ True,  True,  True, False, False, False],\n",
       "       [ True,  True,  True, False, False, False]])"
      ]
     },
     "execution_count": 4,
     "metadata": {},
     "output_type": "execute_result"
    }
   ],
   "source": [
    "A"
   ]
  },
  {
   "cell_type": "code",
   "execution_count": null,
   "metadata": {},
   "outputs": [],
   "source": []
  }
 ],
 "metadata": {
  "kernelspec": {
   "display_name": "Python 3.8.11 ('tf')",
   "language": "python",
   "name": "python3"
  },
  "language_info": {
   "codemirror_mode": {
    "name": "ipython",
    "version": 3
   },
   "file_extension": ".py",
   "mimetype": "text/x-python",
   "name": "python",
   "nbconvert_exporter": "python",
   "pygments_lexer": "ipython3",
   "version": "3.8.11"
  },
  "orig_nbformat": 4,
  "vscode": {
   "interpreter": {
    "hash": "2a5c1c80b3bcd0e5f62b21a0e810a38f905366c5916006723ffe06d666856c32"
   }
  }
 },
 "nbformat": 4,
 "nbformat_minor": 2
}
