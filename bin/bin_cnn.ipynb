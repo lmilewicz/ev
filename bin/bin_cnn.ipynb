{
 "cells": [
  {
   "cell_type": "code",
   "execution_count": null,
   "metadata": {},
   "outputs": [],
   "source": [
    "import tensorflow as tf\n",
    "from data_loader import DataLoader\n",
    "\n",
    "ds_train, ds_test, ds_info = DataLoader('MNIST', batch_size=128)"
   ]
  },
  {
   "cell_type": "code",
   "execution_count": null,
   "metadata": {},
   "outputs": [],
   "source": [
    "model = tf.keras.models.Sequential([\n",
    "  tf.keras.layers.Conv2D(32, (3, 3), activation='relu', input_shape=(28, 28, 1)),\n",
    "  tf.keras.layers.Conv2D(32, (3, 3), activation='relu', input_shape=(28, 28, 1)),\n",
    "  tf.keras.layers.MaxPooling2D((2, 2)),\n",
    "  tf.keras.layers.Flatten(),\n",
    "  tf.keras.layers.Dense(16, activation='relu'),\n",
    "  tf.keras.layers.Dense(16, activation='relu'),\n",
    "  tf.keras.layers.Dense(10)\n",
    "])\n",
    "model.compile(\n",
    "    optimizer=tf.keras.optimizers.Adam(0.001),\n",
    "    loss=tf.keras.losses.SparseCategoricalCrossentropy(from_logits=True),\n",
    "    metrics=[tf.keras.metrics.SparseCategoricalAccuracy()],\n",
    ")\n",
    "\n",
    "model.fit(\n",
    "    ds_train,\n",
    "    epochs=6,\n",
    "    validation_data=ds_test,\n",
    ")"
   ]
  },
  {
   "cell_type": "code",
   "execution_count": null,
   "metadata": {},
   "outputs": [],
   "source": [
    "model.summary()"
   ]
  },
  {
   "cell_type": "code",
   "execution_count": null,
   "metadata": {},
   "outputs": [],
   "source": [
    "%load_ext autoreload\n",
    "%autoreload 2\n",
    "\n",
    "import node\n",
    "\n",
    "input = tf.keras.Input(shape=(28, 28, 1))\n",
    "\n",
    "layer1 = node.Convolution2D(32, activation='relu')\n",
    "layer2 = node.DenseLayer(128, activation='relu')\n",
    "\n",
    "last_active_layer = node.MaxPool2D()(layer1.create_node(dataset_size=(28, 28))(input))\n",
    "# last_active_layer = layer1.create_node(dataset_size=(28, 28))(input)\n",
    "\n",
    "# last_active_layer = layer2(last_active_layer)\n",
    "flat_layer = tf.keras.layers.Flatten()(last_active_layer)\n",
    "last_active_layer = layer2.create_node(dataset_size=(28, 28))(flat_layer)\n",
    "\n",
    "output = tf.keras.layers.Dense(units=10, activation='softmax')(last_active_layer)\n",
    "model2 = tf.keras.Model(input, output)\n",
    "\n",
    "model2.compile(\n",
    "    optimizer=tf.keras.optimizers.Adam(0.001), \n",
    "    loss=tf.keras.losses.SparseCategoricalCrossentropy(from_logits=True),\n",
    "    metrics=[tf.keras.metrics.SparseCategoricalAccuracy()],\n",
    ")\n",
    "\n",
    "# history = model2.fit(\n",
    "#     ds_train,\n",
    "#     epochs=6,\n",
    "#     validation_data=ds_test,\n",
    "# )\n",
    "      \n",
    "# model = tf.keras.models.Sequential([\n",
    "#   tf.keras.layers.Flatten(input_shape=(28, 28)),\n",
    "#   tf.keras.layers.Dense(128, activation='relu'),\n",
    "#   tf.keras.layers.Dense(10)\n",
    "# ])\n",
    "# model.compile(\n",
    "#     optimizer=tf.keras.optimizers.Adam(0.001),\n",
    "#     loss=tf.keras.losses.SparseCategoricalCrossentropy(from_logits=True),\n",
    "#     metrics=[tf.keras.metrics.SparseCategoricalAccuracy()],\n",
    "# )\n",
    "\n",
    "# model.fit(\n",
    "#     ds_train,\n",
    "#     epochs=6,\n",
    "#     validation_data=ds_test,\n",
    "# )"
   ]
  },
  {
   "cell_type": "code",
   "execution_count": null,
   "metadata": {},
   "outputs": [],
   "source": [
    "history = model2.fit(\n",
    "    ds_train,\n",
    "    epochs=6,\n",
    "    validation_data=ds_test,\n",
    ")"
   ]
  },
  {
   "cell_type": "code",
   "execution_count": null,
   "metadata": {},
   "outputs": [],
   "source": []
  }
 ],
 "metadata": {
  "interpreter": {
   "hash": "79380b83047bea0f79cf4d4dafbf8460ad227aabf87872e26c66582023a70b0d"
  },
  "kernelspec": {
   "display_name": "Python 3.9.10 ('tf-2')",
   "language": "python",
   "name": "python3"
  },
  "language_info": {
   "codemirror_mode": {
    "name": "ipython",
    "version": 3
   },
   "file_extension": ".py",
   "mimetype": "text/x-python",
   "name": "python",
   "nbconvert_exporter": "python",
   "pygments_lexer": "ipython3",
   "version": "3.9.7"
  },
  "orig_nbformat": 4
 },
 "nbformat": 4,
 "nbformat_minor": 2
}
